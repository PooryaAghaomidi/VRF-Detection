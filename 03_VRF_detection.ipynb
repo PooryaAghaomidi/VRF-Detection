{
  "cells": [
    {
      "cell_type": "markdown",
      "id": "0155277b-03a6-4a6a-ac3c-44f13199f1e8",
      "metadata": {
        "id": "0155277b-03a6-4a6a-ac3c-44f13199f1e8"
      },
      "source": [
        "# Configuration"
      ]
    },
    {
      "cell_type": "code",
      "source": [
        "from google.colab import drive\n",
        "drive.mount('/content/drive')"
      ],
      "metadata": {
        "colab": {
          "base_uri": "https://localhost:8080/"
        },
        "id": "dD8P-2K6nYpq",
        "outputId": "a54e1cde-0a85-4d00-ea53-d4f24a9e3b29"
      },
      "id": "dD8P-2K6nYpq",
      "execution_count": null,
      "outputs": [
        {
          "output_type": "stream",
          "name": "stdout",
          "text": [
            "Drive already mounted at /content/drive; to attempt to forcibly remount, call drive.mount(\"/content/drive\", force_remount=True).\n"
          ]
        }
      ]
    },
    {
      "cell_type": "code",
      "execution_count": null,
      "id": "f8e8ecd2-a2a2-4781-8751-b92e28d67b1f",
      "metadata": {
        "id": "f8e8ecd2-a2a2-4781-8751-b92e28d67b1f"
      },
      "outputs": [],
      "source": [
        "import os\n",
        "import torch\n",
        "import random\n",
        "import numpy as np\n",
        "\n",
        "seed = 42\n",
        "os.environ['PYTHONHASHSEED'] = str(seed)\n",
        "random.seed(seed)\n",
        "np.random.seed(seed)\n",
        "torch.manual_seed(seed)\n",
        "torch.cuda.manual_seed_all(seed)\n",
        "torch.backends.cudnn.deterministic = True\n",
        "torch.backends.cudnn.benchmark = False"
      ]
    },
    {
      "cell_type": "markdown",
      "id": "8c966cbc-2a4f-4557-9ea8-ea16768b0d60",
      "metadata": {
        "id": "8c966cbc-2a4f-4557-9ea8-ea16768b0d60"
      },
      "source": [
        "# Import"
      ]
    },
    {
      "cell_type": "code",
      "execution_count": null,
      "id": "5863b00f-c677-4c81-a3f9-1edc854093e6",
      "metadata": {
        "id": "5863b00f-c677-4c81-a3f9-1edc854093e6"
      },
      "outputs": [],
      "source": [
        "import sys\n",
        "import time\n",
        "from tqdm import tqdm\n",
        "import torch.nn as nn\n",
        "import matplotlib.pyplot as plt\n",
        "import torch.nn.functional as F\n",
        "from torchsummary import summary\n",
        "from scipy.special import expit as sigmoid\n",
        "from torch.utils.data import DataLoader, TensorDataset\n",
        "from torch.optim import Adam, SGD, AdamW, Adamax, RMSprop\n",
        "from sklearn.metrics import classification_report, accuracy_score\n",
        "\n",
        "sys.path.append('/content/drive/MyDrive/Teeth/mednet')\n",
        "from model import generate_model"
      ]
    },
    {
      "cell_type": "markdown",
      "id": "63380143-1efd-4dd0-a4dc-3023064e578b",
      "metadata": {
        "id": "63380143-1efd-4dd0-a4dc-3023064e578b"
      },
      "source": [
        "# Parameters"
      ]
    },
    {
      "cell_type": "code",
      "execution_count": null,
      "id": "5128a46e-d581-4ccd-91ae-540d5254d827",
      "metadata": {
        "id": "5128a46e-d581-4ccd-91ae-540d5254d827"
      },
      "outputs": [],
      "source": [
        "epoch = 100\n",
        "batch_size = 16\n",
        "input_shape = (100, 1, 55, 55)\n",
        "learning_rate = 1e-4\n",
        "\n",
        "device = torch.device(\"cuda\" if torch.cuda.is_available() else \"cpu\")"
      ]
    },
    {
      "cell_type": "markdown",
      "id": "6625a391-7e0b-4408-b363-4240adf8ee67",
      "metadata": {
        "id": "6625a391-7e0b-4408-b363-4240adf8ee67"
      },
      "source": [
        "# Dataset"
      ]
    },
    {
      "cell_type": "code",
      "execution_count": null,
      "id": "1f37f1cd-6a2a-4e82-aebc-4b6a6f7ce500",
      "metadata": {
        "id": "1f37f1cd-6a2a-4e82-aebc-4b6a6f7ce500"
      },
      "outputs": [],
      "source": [
        "def prepare_data():\n",
        "    with np.load(\"/content/drive/MyDrive/Teeth/Final/train.npz\") as data:\n",
        "        x_train = data['x']\n",
        "        y_train = data['y']\n",
        "\n",
        "    with np.load(\"/content/drive/MyDrive/Teeth/Final/Validation.npz\") as data:\n",
        "        x_val = data['x']\n",
        "        y_val = data['y']\n",
        "\n",
        "    with np.load(\"/content/drive/MyDrive/Teeth/Final/Test.npz\") as data:\n",
        "        x_test = data['x'].astype(np.float32)\n",
        "        y_test = data['y']\n",
        "\n",
        "    x_train = x_train.transpose(0, 4, 1, 2, 3)\n",
        "    x_val = x_val.transpose(0, 4, 1, 2, 3)\n",
        "    x_test = x_test.transpose(0, 4, 1, 2, 3)\n",
        "\n",
        "    train_dataset = TensorDataset(torch.tensor(x_train, dtype=torch.float32),\n",
        "                              torch.tensor(y_train, dtype=torch.float32).unsqueeze(1))\n",
        "    val_dataset = TensorDataset(torch.tensor(x_val, dtype=torch.float32),\n",
        "                                torch.tensor(y_val, dtype=torch.float32).unsqueeze(1))\n",
        "    test_dataset = TensorDataset(torch.tensor(x_test, dtype=torch.float32),\n",
        "                                torch.tensor(y_test, dtype=torch.float32).unsqueeze(1))\n",
        "\n",
        "    train_loader = DataLoader(train_dataset, batch_size=batch_size, shuffle=True, drop_last=True)\n",
        "    val_loader = DataLoader(val_dataset, batch_size=batch_size)\n",
        "    test_loader = DataLoader(test_dataset, batch_size=batch_size)\n",
        "\n",
        "    return train_loader, val_loader, test_loader\n",
        "\n",
        "\n",
        "train_loader, val_loader, test_loader = prepare_data()"
      ]
    },
    {
      "cell_type": "markdown",
      "id": "ff7f8518-bc1b-4058-abbb-b50c5ae50569",
      "metadata": {
        "id": "ff7f8518-bc1b-4058-abbb-b50c5ae50569"
      },
      "source": [
        "# Model"
      ]
    },
    {
      "cell_type": "code",
      "execution_count": null,
      "id": "e0987462",
      "metadata": {
        "colab": {
          "base_uri": "https://localhost:8080/"
        },
        "id": "e0987462",
        "outputId": "df6bfa26-2ad2-41d5-fd72-3cedd4d2b7e6"
      },
      "outputs": [
        {
          "output_type": "stream",
          "name": "stderr",
          "text": [
            "/content/drive/MyDrive/Teeth/mednet/models/resnet.py:173: FutureWarning: `nn.init.kaiming_normal` is now deprecated in favor of `nn.init.kaiming_normal_`.\n",
            "  m.weight = nn.init.kaiming_normal(m.weight, mode='fan_out')\n"
          ]
        },
        {
          "output_type": "stream",
          "name": "stdout",
          "text": [
            "loading pretrained model /content/drive/MyDrive/Teeth/Checkpoints/resnet_50_23dataset.pth\n",
            "----------------------------------------------------------------\n",
            "        Layer (type)               Output Shape         Param #\n",
            "================================================================\n",
            "            Conv3d-1       [-1, 64, 50, 28, 28]          21,952\n",
            "       BatchNorm3d-2       [-1, 64, 50, 28, 28]             128\n",
            "              ReLU-3       [-1, 64, 50, 28, 28]               0\n",
            "         MaxPool3d-4       [-1, 64, 25, 14, 14]               0\n",
            "            Conv3d-5       [-1, 64, 25, 14, 14]           4,096\n",
            "       BatchNorm3d-6       [-1, 64, 25, 14, 14]             128\n",
            "              ReLU-7       [-1, 64, 25, 14, 14]               0\n",
            "            Conv3d-8       [-1, 64, 25, 14, 14]         110,592\n",
            "       BatchNorm3d-9       [-1, 64, 25, 14, 14]             128\n",
            "             ReLU-10       [-1, 64, 25, 14, 14]               0\n",
            "           Conv3d-11      [-1, 256, 25, 14, 14]          16,384\n",
            "      BatchNorm3d-12      [-1, 256, 25, 14, 14]             512\n",
            "           Conv3d-13      [-1, 256, 25, 14, 14]          16,384\n",
            "      BatchNorm3d-14      [-1, 256, 25, 14, 14]             512\n",
            "             ReLU-15      [-1, 256, 25, 14, 14]               0\n",
            "       Bottleneck-16      [-1, 256, 25, 14, 14]               0\n",
            "           Conv3d-17       [-1, 64, 25, 14, 14]          16,384\n",
            "      BatchNorm3d-18       [-1, 64, 25, 14, 14]             128\n",
            "             ReLU-19       [-1, 64, 25, 14, 14]               0\n",
            "           Conv3d-20       [-1, 64, 25, 14, 14]         110,592\n",
            "      BatchNorm3d-21       [-1, 64, 25, 14, 14]             128\n",
            "             ReLU-22       [-1, 64, 25, 14, 14]               0\n",
            "           Conv3d-23      [-1, 256, 25, 14, 14]          16,384\n",
            "      BatchNorm3d-24      [-1, 256, 25, 14, 14]             512\n",
            "             ReLU-25      [-1, 256, 25, 14, 14]               0\n",
            "       Bottleneck-26      [-1, 256, 25, 14, 14]               0\n",
            "           Conv3d-27       [-1, 64, 25, 14, 14]          16,384\n",
            "      BatchNorm3d-28       [-1, 64, 25, 14, 14]             128\n",
            "             ReLU-29       [-1, 64, 25, 14, 14]               0\n",
            "           Conv3d-30       [-1, 64, 25, 14, 14]         110,592\n",
            "      BatchNorm3d-31       [-1, 64, 25, 14, 14]             128\n",
            "             ReLU-32       [-1, 64, 25, 14, 14]               0\n",
            "           Conv3d-33      [-1, 256, 25, 14, 14]          16,384\n",
            "      BatchNorm3d-34      [-1, 256, 25, 14, 14]             512\n",
            "             ReLU-35      [-1, 256, 25, 14, 14]               0\n",
            "       Bottleneck-36      [-1, 256, 25, 14, 14]               0\n",
            "           Conv3d-37      [-1, 128, 25, 14, 14]          32,768\n",
            "      BatchNorm3d-38      [-1, 128, 25, 14, 14]             256\n",
            "             ReLU-39      [-1, 128, 25, 14, 14]               0\n",
            "           Conv3d-40        [-1, 128, 13, 7, 7]         442,368\n",
            "      BatchNorm3d-41        [-1, 128, 13, 7, 7]             256\n",
            "             ReLU-42        [-1, 128, 13, 7, 7]               0\n",
            "           Conv3d-43        [-1, 512, 13, 7, 7]          65,536\n",
            "      BatchNorm3d-44        [-1, 512, 13, 7, 7]           1,024\n",
            "           Conv3d-45        [-1, 512, 13, 7, 7]         131,072\n",
            "      BatchNorm3d-46        [-1, 512, 13, 7, 7]           1,024\n",
            "             ReLU-47        [-1, 512, 13, 7, 7]               0\n",
            "       Bottleneck-48        [-1, 512, 13, 7, 7]               0\n",
            "           Conv3d-49        [-1, 128, 13, 7, 7]          65,536\n",
            "      BatchNorm3d-50        [-1, 128, 13, 7, 7]             256\n",
            "             ReLU-51        [-1, 128, 13, 7, 7]               0\n",
            "           Conv3d-52        [-1, 128, 13, 7, 7]         442,368\n",
            "      BatchNorm3d-53        [-1, 128, 13, 7, 7]             256\n",
            "             ReLU-54        [-1, 128, 13, 7, 7]               0\n",
            "           Conv3d-55        [-1, 512, 13, 7, 7]          65,536\n",
            "      BatchNorm3d-56        [-1, 512, 13, 7, 7]           1,024\n",
            "             ReLU-57        [-1, 512, 13, 7, 7]               0\n",
            "       Bottleneck-58        [-1, 512, 13, 7, 7]               0\n",
            "           Conv3d-59        [-1, 128, 13, 7, 7]          65,536\n",
            "      BatchNorm3d-60        [-1, 128, 13, 7, 7]             256\n",
            "             ReLU-61        [-1, 128, 13, 7, 7]               0\n",
            "           Conv3d-62        [-1, 128, 13, 7, 7]         442,368\n",
            "      BatchNorm3d-63        [-1, 128, 13, 7, 7]             256\n",
            "             ReLU-64        [-1, 128, 13, 7, 7]               0\n",
            "           Conv3d-65        [-1, 512, 13, 7, 7]          65,536\n",
            "      BatchNorm3d-66        [-1, 512, 13, 7, 7]           1,024\n",
            "             ReLU-67        [-1, 512, 13, 7, 7]               0\n",
            "       Bottleneck-68        [-1, 512, 13, 7, 7]               0\n",
            "           Conv3d-69        [-1, 128, 13, 7, 7]          65,536\n",
            "      BatchNorm3d-70        [-1, 128, 13, 7, 7]             256\n",
            "             ReLU-71        [-1, 128, 13, 7, 7]               0\n",
            "           Conv3d-72        [-1, 128, 13, 7, 7]         442,368\n",
            "      BatchNorm3d-73        [-1, 128, 13, 7, 7]             256\n",
            "             ReLU-74        [-1, 128, 13, 7, 7]               0\n",
            "           Conv3d-75        [-1, 512, 13, 7, 7]          65,536\n",
            "      BatchNorm3d-76        [-1, 512, 13, 7, 7]           1,024\n",
            "             ReLU-77        [-1, 512, 13, 7, 7]               0\n",
            "       Bottleneck-78        [-1, 512, 13, 7, 7]               0\n",
            "           Conv3d-79        [-1, 256, 13, 7, 7]         131,072\n",
            "      BatchNorm3d-80        [-1, 256, 13, 7, 7]             512\n",
            "             ReLU-81        [-1, 256, 13, 7, 7]               0\n",
            "           Conv3d-82        [-1, 256, 13, 7, 7]       1,769,472\n",
            "      BatchNorm3d-83        [-1, 256, 13, 7, 7]             512\n",
            "             ReLU-84        [-1, 256, 13, 7, 7]               0\n",
            "           Conv3d-85       [-1, 1024, 13, 7, 7]         262,144\n",
            "      BatchNorm3d-86       [-1, 1024, 13, 7, 7]           2,048\n",
            "           Conv3d-87       [-1, 1024, 13, 7, 7]         524,288\n",
            "      BatchNorm3d-88       [-1, 1024, 13, 7, 7]           2,048\n",
            "             ReLU-89       [-1, 1024, 13, 7, 7]               0\n",
            "       Bottleneck-90       [-1, 1024, 13, 7, 7]               0\n",
            "           Conv3d-91        [-1, 256, 13, 7, 7]         262,144\n",
            "      BatchNorm3d-92        [-1, 256, 13, 7, 7]             512\n",
            "             ReLU-93        [-1, 256, 13, 7, 7]               0\n",
            "           Conv3d-94        [-1, 256, 13, 7, 7]       1,769,472\n",
            "      BatchNorm3d-95        [-1, 256, 13, 7, 7]             512\n",
            "             ReLU-96        [-1, 256, 13, 7, 7]               0\n",
            "           Conv3d-97       [-1, 1024, 13, 7, 7]         262,144\n",
            "      BatchNorm3d-98       [-1, 1024, 13, 7, 7]           2,048\n",
            "             ReLU-99       [-1, 1024, 13, 7, 7]               0\n",
            "      Bottleneck-100       [-1, 1024, 13, 7, 7]               0\n",
            "          Conv3d-101        [-1, 256, 13, 7, 7]         262,144\n",
            "     BatchNorm3d-102        [-1, 256, 13, 7, 7]             512\n",
            "            ReLU-103        [-1, 256, 13, 7, 7]               0\n",
            "          Conv3d-104        [-1, 256, 13, 7, 7]       1,769,472\n",
            "     BatchNorm3d-105        [-1, 256, 13, 7, 7]             512\n",
            "            ReLU-106        [-1, 256, 13, 7, 7]               0\n",
            "          Conv3d-107       [-1, 1024, 13, 7, 7]         262,144\n",
            "     BatchNorm3d-108       [-1, 1024, 13, 7, 7]           2,048\n",
            "            ReLU-109       [-1, 1024, 13, 7, 7]               0\n",
            "      Bottleneck-110       [-1, 1024, 13, 7, 7]               0\n",
            "          Conv3d-111        [-1, 256, 13, 7, 7]         262,144\n",
            "     BatchNorm3d-112        [-1, 256, 13, 7, 7]             512\n",
            "            ReLU-113        [-1, 256, 13, 7, 7]               0\n",
            "          Conv3d-114        [-1, 256, 13, 7, 7]       1,769,472\n",
            "     BatchNorm3d-115        [-1, 256, 13, 7, 7]             512\n",
            "            ReLU-116        [-1, 256, 13, 7, 7]               0\n",
            "          Conv3d-117       [-1, 1024, 13, 7, 7]         262,144\n",
            "     BatchNorm3d-118       [-1, 1024, 13, 7, 7]           2,048\n",
            "            ReLU-119       [-1, 1024, 13, 7, 7]               0\n",
            "      Bottleneck-120       [-1, 1024, 13, 7, 7]               0\n",
            "          Conv3d-121        [-1, 256, 13, 7, 7]         262,144\n",
            "     BatchNorm3d-122        [-1, 256, 13, 7, 7]             512\n",
            "            ReLU-123        [-1, 256, 13, 7, 7]               0\n",
            "          Conv3d-124        [-1, 256, 13, 7, 7]       1,769,472\n",
            "     BatchNorm3d-125        [-1, 256, 13, 7, 7]             512\n",
            "            ReLU-126        [-1, 256, 13, 7, 7]               0\n",
            "          Conv3d-127       [-1, 1024, 13, 7, 7]         262,144\n",
            "     BatchNorm3d-128       [-1, 1024, 13, 7, 7]           2,048\n",
            "            ReLU-129       [-1, 1024, 13, 7, 7]               0\n",
            "      Bottleneck-130       [-1, 1024, 13, 7, 7]               0\n",
            "          Conv3d-131        [-1, 256, 13, 7, 7]         262,144\n",
            "     BatchNorm3d-132        [-1, 256, 13, 7, 7]             512\n",
            "            ReLU-133        [-1, 256, 13, 7, 7]               0\n",
            "          Conv3d-134        [-1, 256, 13, 7, 7]       1,769,472\n",
            "     BatchNorm3d-135        [-1, 256, 13, 7, 7]             512\n",
            "            ReLU-136        [-1, 256, 13, 7, 7]               0\n",
            "          Conv3d-137       [-1, 1024, 13, 7, 7]         262,144\n",
            "     BatchNorm3d-138       [-1, 1024, 13, 7, 7]           2,048\n",
            "            ReLU-139       [-1, 1024, 13, 7, 7]               0\n",
            "      Bottleneck-140       [-1, 1024, 13, 7, 7]               0\n",
            "          Conv3d-141        [-1, 512, 13, 7, 7]         524,288\n",
            "     BatchNorm3d-142        [-1, 512, 13, 7, 7]           1,024\n",
            "            ReLU-143        [-1, 512, 13, 7, 7]               0\n",
            "          Conv3d-144        [-1, 512, 13, 7, 7]       7,077,888\n",
            "     BatchNorm3d-145        [-1, 512, 13, 7, 7]           1,024\n",
            "            ReLU-146        [-1, 512, 13, 7, 7]               0\n",
            "          Conv3d-147       [-1, 2048, 13, 7, 7]       1,048,576\n",
            "     BatchNorm3d-148       [-1, 2048, 13, 7, 7]           4,096\n",
            "          Conv3d-149       [-1, 2048, 13, 7, 7]       2,097,152\n",
            "     BatchNorm3d-150       [-1, 2048, 13, 7, 7]           4,096\n",
            "            ReLU-151       [-1, 2048, 13, 7, 7]               0\n",
            "      Bottleneck-152       [-1, 2048, 13, 7, 7]               0\n",
            "          Conv3d-153        [-1, 512, 13, 7, 7]       1,048,576\n",
            "     BatchNorm3d-154        [-1, 512, 13, 7, 7]           1,024\n",
            "            ReLU-155        [-1, 512, 13, 7, 7]               0\n",
            "          Conv3d-156        [-1, 512, 13, 7, 7]       7,077,888\n",
            "     BatchNorm3d-157        [-1, 512, 13, 7, 7]           1,024\n",
            "            ReLU-158        [-1, 512, 13, 7, 7]               0\n",
            "          Conv3d-159       [-1, 2048, 13, 7, 7]       1,048,576\n",
            "     BatchNorm3d-160       [-1, 2048, 13, 7, 7]           4,096\n",
            "            ReLU-161       [-1, 2048, 13, 7, 7]               0\n",
            "      Bottleneck-162       [-1, 2048, 13, 7, 7]               0\n",
            "          Conv3d-163        [-1, 512, 13, 7, 7]       1,048,576\n",
            "     BatchNorm3d-164        [-1, 512, 13, 7, 7]           1,024\n",
            "            ReLU-165        [-1, 512, 13, 7, 7]               0\n",
            "          Conv3d-166        [-1, 512, 13, 7, 7]       7,077,888\n",
            "     BatchNorm3d-167        [-1, 512, 13, 7, 7]           1,024\n",
            "            ReLU-168        [-1, 512, 13, 7, 7]               0\n",
            "          Conv3d-169       [-1, 2048, 13, 7, 7]       1,048,576\n",
            "     BatchNorm3d-170       [-1, 2048, 13, 7, 7]           4,096\n",
            "            ReLU-171       [-1, 2048, 13, 7, 7]               0\n",
            "      Bottleneck-172       [-1, 2048, 13, 7, 7]               0\n",
            "        Identity-173       [-1, 2048, 13, 7, 7]               0\n",
            "          ResNet-174       [-1, 2048, 13, 7, 7]               0\n",
            "    DataParallel-175       [-1, 2048, 13, 7, 7]               0\n",
            "AdaptiveAvgPool3d-176        [-1, 2048, 1, 1, 1]               0\n",
            "         Flatten-177                 [-1, 2048]               0\n",
            "          Linear-178                  [-1, 512]       1,049,088\n",
            "     BatchNorm1d-179                  [-1, 512]           1,024\n",
            "            ReLU-180                  [-1, 512]               0\n",
            "         Dropout-181                  [-1, 512]               0\n",
            "          Linear-182                  [-1, 256]         131,328\n",
            "     BatchNorm1d-183                  [-1, 256]             512\n",
            "            ReLU-184                  [-1, 256]               0\n",
            "         Dropout-185                  [-1, 256]               0\n",
            "          Linear-186                    [-1, 1]             257\n",
            "================================================================\n",
            "Total params: 47,337,281\n",
            "Trainable params: 1,182,209\n",
            "Non-trainable params: 46,155,072\n",
            "----------------------------------------------------------------\n",
            "Input size (MB): 1.15\n",
            "Forward/backward pass size (MB): 697.30\n",
            "Params size (MB): 180.58\n",
            "Estimated Total Size (MB): 879.03\n",
            "----------------------------------------------------------------\n"
          ]
        }
      ],
      "source": [
        "class Options:\n",
        "    def __init__(self):\n",
        "        self.model = 'resnet'\n",
        "        self.model_depth = 50\n",
        "        self.resnet_shortcut = 'B'\n",
        "        self.no_cuda = False\n",
        "        self.gpu_id = [0]\n",
        "        self.n_seg_classes = 1\n",
        "        self.input_W = 55\n",
        "        self.input_H = 55\n",
        "        self.input_D = 100\n",
        "        self.phase = 'train'\n",
        "        self.pretrain_path = f'/content/drive/MyDrive/Teeth/Checkpoints/resnet_{self.model_depth}_23dataset.pth'\n",
        "        self.new_layer_names = []\n",
        "\n",
        "\n",
        "class CustomMedicalNet(nn.Module):\n",
        "    def __init__(self, opt: Options, output_dim=1):\n",
        "        super(CustomMedicalNet, self).__init__()\n",
        "\n",
        "        encoder, _ = generate_model(opt)\n",
        "\n",
        "        if hasattr(encoder.module, 'fc'):\n",
        "            encoder.module.fc = nn.Identity()\n",
        "        if hasattr(encoder.module, 'conv_seg'):\n",
        "            encoder.module.conv_seg = nn.Identity()\n",
        "\n",
        "        for param in encoder.parameters():\n",
        "            param.requires_grad = False\n",
        "\n",
        "        self.encoder = encoder\n",
        "\n",
        "        self.global_pool = nn.AdaptiveAvgPool3d(1)\n",
        "\n",
        "        self.classifier = nn.Sequential(\n",
        "            nn.Flatten(),\n",
        "            nn.Linear(2048, 512),\n",
        "            nn.BatchNorm1d(512),\n",
        "            nn.ReLU(),\n",
        "            nn.Dropout(0.1),\n",
        "            nn.Linear(512, 256),\n",
        "            nn.BatchNorm1d(256),\n",
        "            nn.ReLU(),\n",
        "            nn.Dropout(0.1),\n",
        "            nn.Linear(256, output_dim))\n",
        "\n",
        "    def forward(self, x):\n",
        "        x = self.encoder(x)\n",
        "        x = self.global_pool(x)\n",
        "        x = self.classifier(x)\n",
        "        return x\n",
        "\n",
        "\n",
        "class FocalLoss(nn.Module):\n",
        "    def __init__(self, alpha=1, gamma=2):\n",
        "        super(FocalLoss, self).__init__()\n",
        "        self.alpha = alpha\n",
        "        self.gamma = gamma\n",
        "        self.criterion = nn.BCEWithLogitsLoss(reduction='none')\n",
        "\n",
        "    def forward(self, inputs, targets):\n",
        "        bce_loss = self.criterion(inputs, targets)\n",
        "        pt = torch.exp(-bce_loss)\n",
        "        focal_loss = self.alpha * (1 - pt) ** self.gamma * bce_loss\n",
        "        return focal_loss.mean()\n",
        "\n",
        "\n",
        "opt = Options()\n",
        "model = CustomMedicalNet(opt, output_dim=1)\n",
        "model = model.to(device)\n",
        "criterion = torch.nn.BCEWithLogitsLoss()\n",
        "optimizer = Adam(model.parameters(), lr=learning_rate, weight_decay=1e-5)\n",
        "summary(model, input_size=(1, 100, 55, 55))"
      ]
    },
    {
      "cell_type": "markdown",
      "id": "29edc728-f2b9-4ced-99c5-ba4c9010fe7e",
      "metadata": {
        "id": "29edc728-f2b9-4ced-99c5-ba4c9010fe7e"
      },
      "source": [
        "# Train"
      ]
    },
    {
      "cell_type": "code",
      "execution_count": null,
      "id": "7b0fbe65-3777-48a8-8e68-91abe636eb78",
      "metadata": {
        "id": "7b0fbe65-3777-48a8-8e68-91abe636eb78"
      },
      "outputs": [],
      "source": [
        "scheduler = torch.optim.lr_scheduler.ReduceLROnPlateau(optimizer, mode='min', factor=0.8, patience=5, min_lr=1e-7)\n",
        "\n",
        "best_val_loss = float('inf')\n",
        "patience = 20\n",
        "patience_counter = 0\n",
        "save_path = \"/content/drive/MyDrive/Teeth/Checkpoints/best_model_2.pth\"\n",
        "\n",
        "for ep in range(epoch):\n",
        "    start_time = time.time()\n",
        "    model.train()\n",
        "    train_loss = 0\n",
        "    all_train_preds = []\n",
        "    all_train_labels = []\n",
        "\n",
        "    print(f\"\\nEpoch {ep+1}/{epoch}\")\n",
        "\n",
        "    for xb, yb in tqdm(train_loader, desc=\"Training\", leave=True):\n",
        "        xb, yb = xb.to(device), yb.to(device)\n",
        "        optimizer.zero_grad()\n",
        "        preds = model(xb)\n",
        "        loss = criterion(preds, yb)\n",
        "        loss.backward()\n",
        "        optimizer.step()\n",
        "\n",
        "        train_loss += loss.item()\n",
        "        all_train_preds.extend(preds.detach().cpu().numpy())\n",
        "        all_train_labels.extend(yb.cpu().numpy())\n",
        "\n",
        "    train_loss /= len(train_loader)\n",
        "    train_probs = sigmoid(np.array(all_train_preds))\n",
        "    train_preds = (train_probs > 0.5).astype(int)\n",
        "    train_labels = np.array(all_train_labels).astype(int).flatten()\n",
        "    train_acc = accuracy_score(train_labels, train_preds)\n",
        "\n",
        "    model.eval()\n",
        "    val_loss = 0\n",
        "    all_val_preds = []\n",
        "    all_val_labels = []\n",
        "\n",
        "    with torch.no_grad():\n",
        "        for xb, yb in val_loader:\n",
        "            xb, yb = xb.to(device), yb.to(device)\n",
        "            preds = model(xb)\n",
        "            loss = criterion(preds, yb)\n",
        "            val_loss += loss.item()\n",
        "            all_val_preds.extend(preds.cpu().numpy())\n",
        "            all_val_labels.extend(yb.cpu().numpy())\n",
        "\n",
        "    val_loss   /= len(val_loader)\n",
        "    val_probs   = sigmoid(np.array(all_val_preds))\n",
        "    val_preds   = (val_probs > 0.5).astype(int)\n",
        "    val_labels  = np.array(all_val_labels).astype(int).flatten()\n",
        "    val_acc     = accuracy_score(val_labels, val_preds)\n",
        "    scheduler.step(val_loss)\n",
        "\n",
        "    elapsed_time = time.time() - start_time\n",
        "\n",
        "    print(f\"Time: {elapsed_time:.2f}s | Train Loss: {train_loss:.4f} | Train Acc: {train_acc:.4f} | \"\n",
        "          f\"Val Loss: {val_loss:.4f} | Val Acc: {val_acc:.4f}\")\n",
        "\n",
        "    if val_loss < best_val_loss:\n",
        "        best_val_loss = val_loss\n",
        "        torch.save(model.state_dict(), save_path)\n",
        "        print(\"Saved Best Model\")\n",
        "        patience_counter = 0\n",
        "    else:\n",
        "        patience_counter += 1\n",
        "        if patience_counter >= patience:\n",
        "            print(\"Early stopping triggered\")\n",
        "            break"
      ]
    },
    {
      "cell_type": "markdown",
      "id": "70c9adfa-debd-458e-9de4-384f3e81d027",
      "metadata": {
        "id": "70c9adfa-debd-458e-9de4-384f3e81d027"
      },
      "source": [
        "# Evaluation"
      ]
    },
    {
      "cell_type": "code",
      "execution_count": null,
      "id": "73c3ddcd-ce53-4382-b680-650293e27e64",
      "metadata": {
        "id": "73c3ddcd-ce53-4382-b680-650293e27e64",
        "colab": {
          "base_uri": "https://localhost:8080/",
          "height": 644
        },
        "outputId": "01f43d70-de63-40e3-957d-40be146c4324"
      },
      "outputs": [
        {
          "output_type": "stream",
          "name": "stdout",
          "text": [
            "\n",
            "Test Accuracy: 62.50%\n",
            "Classification Report:\n",
            "              precision    recall  f1-score   support\n",
            "\n",
            "         0.0       0.76      0.29      0.42        45\n",
            "         1.0       0.59      0.92      0.72        51\n",
            "\n",
            "    accuracy                           0.62        96\n",
            "   macro avg       0.68      0.61      0.57        96\n",
            "weighted avg       0.67      0.62      0.58        96\n",
            "\n"
          ]
        },
        {
          "output_type": "display_data",
          "data": {
            "text/plain": [
              "<Figure size 640x480 with 1 Axes>"
            ],
            "image/png": "[encoded data removed]"
          },
          "metadata": {}
        }
      ],
      "source": [
        "model.load_state_dict(torch.load(save_path))\n",
        "model.eval()\n",
        "all_preds = []\n",
        "all_labels = []\n",
        "prediction = []\n",
        "\n",
        "with torch.no_grad():\n",
        "    for xb, yb in test_loader:\n",
        "        xb = xb.to(device)\n",
        "        preds = model(xb)\n",
        "        probabilities = torch.sigmoid(preds)\n",
        "        prediction.extend(probabilities.cpu().numpy())\n",
        "        predictions = (probabilities > 0.5).float()\n",
        "        all_preds.extend(predictions.cpu().numpy())\n",
        "        all_labels.extend(yb.numpy())\n",
        "\n",
        "y_pred = np.round(np.array(all_preds)).astype(int).flatten()\n",
        "y_true = np.array(all_labels).flatten()\n",
        "test_acc = accuracy_score(y_true, y_pred)\n",
        "\n",
        "print(f\"\\nTest Accuracy: {test_acc * 100:.2f}%\")\n",
        "print(\"Classification Report:\")\n",
        "print(classification_report(y_true, y_pred))\n",
        "\n",
        "plt.hist(prediction)\n",
        "plt.show()"
      ]
    },
    {
      "cell_type": "code",
      "execution_count": null,
      "id": "e9ad95c6-d7a8-4c55-84dd-5b26ac916174",
      "metadata": {
        "id": "e9ad95c6-d7a8-4c55-84dd-5b26ac916174"
      },
      "outputs": [],
      "source": []
    }
  ],
  "metadata": {
    "accelerator": "GPU",
    "colab": {
      "gpuType": "T4",
      "provenance": []
    },
    "kernelspec": {
      "display_name": "venv",
      "language": "python",
      "name": "python3"
    },
    "language_info": {
      "codemirror_mode": {
        "name": "ipython",
        "version": 3
      },
      "file_extension": ".py",
      "mimetype": "text/x-python",
      "name": "python",
      "nbconvert_exporter": "python",
      "pygments_lexer": "ipython3",
      "version": "3.9.6"
    }
  },
  "nbformat": 4,
  "nbformat_minor": 5
}